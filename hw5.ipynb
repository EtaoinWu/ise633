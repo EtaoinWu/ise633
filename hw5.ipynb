{
 "cells": [
  {
   "cell_type": "markdown",
   "metadata": {},
   "source": [
    "# ISE 633 Homework 5\n",
    "\n",
    "Author: Yue Wu <wu.yue@usc.edu>\n",
    "$\\def\\vf#1{\\boldsymbol{#1}}$\n",
    "\n",
    "This notebook is the coding part of the 5th homework of ISE 633. It is written in a style where code and explanations are interleaved. The notebook is written in Python 3.12 and is best viewed in a Jupyter notebook environment.\n",
    "\n",
    "### Dependencies\n",
    "\n",
    "It requires the following packages:\n",
    "\n",
    "```plain\n",
    "jax==0.4.25\n",
    "jaxtyping==0.2.25\n",
    "beartype==0.17.2\n",
    "equinox==0.11.3\n",
    "```\n",
    "\n",
    "and reasonably new versions of `ipytest`, `seaborn`, `matplotlib` and `pandas`. The notebook is exclusively written in Python 3.12+. Since the computation is done with JAX with its fully deterministic RNGs, the results should be completely reproducible. The local dependencies (i.e. `utils.*`) will be available in the same directory as this notebook in my github [repository](https://github.com/EtaoinWu/ise633).\n",
    "\n",
    "A significant portion of code in this notebook is identical to my previous homeworks."
   ]
  },
  {
   "cell_type": "code",
   "execution_count": null,
   "metadata": {},
   "outputs": [],
   "source": [
    "from functools import partial\n",
    "\n",
    "import beartype\n",
    "import equinox as eqx\n",
    "import ipytest\n",
    "import jax\n",
    "import jax.scipy.optimize\n",
    "import matplotlib.pyplot as plt\n",
    "import numpy as np\n",
    "import seaborn as sns\n",
    "from beartype.typing import Any, Callable, cast\n",
    "from jax import numpy as jnp, random as jr, tree_util as jtu\n",
    "from jaxtyping import Array, Bool, Float, Integer, Key, Scalar, jaxtyped\n",
    "from matplotlib.axes import Axes\n",
    "import tqdm.notebook as tqdm\n",
    "\n",
    "import utils.platform\n",
    "from utils.tree import tree_nfold_cross_validation_tests, tree_nfold_cross_validation_trains\n",
    "\n",
    "ipytest.autoconfig()\n",
    "jax.config.update(\"jax_enable_x64\", True)\n",
    "jax.config.update(\"jax_threefry_partitionable\", True)\n",
    "\n",
    "utils.platform.init_matplotlib(\"svg\")\n",
    "sns.set_theme(\"notebook\", style=\"whitegrid\")\n",
    "\n",
    "SingleKey = Key[Scalar, \"\"]\n",
    "typechecked = jaxtyped(typechecker=beartype.beartype)\n",
    "FloatLike = float | Float[Scalar, \"\"]"
   ]
  },
  {
   "cell_type": "markdown",
   "metadata": {},
   "source": [
    "We first define our model."
   ]
  },
  {
   "cell_type": "code",
   "execution_count": null,
   "metadata": {},
   "outputs": [],
   "source": [
    "class PartitionProblem(eqx.Module):\n",
    "    n: int = eqx.field(static=True)\n",
    "    l: Float[Scalar, \"\"]\n",
    "    a: Float[Array, \"n n\"]\n",
    "    def __check_init__(self):\n",
    "        assert self.a.shape == (self.n, self.n)\n",
    "        assert jnp.all(jnp.equal(self.a, self.a.T))\n",
    "\n",
    "    @property\n",
    "    def a_tilde(self) -> Float[Array, \"n n\"]:\n",
    "        return jnp.ones_like(self.a) * self.l - self.a\n",
    "\n",
    "@typechecked\n",
    "def load_partition(fn: str) -> PartitionProblem:\n",
    "    a_np = np.loadtxt(\"hw5/A.txt\",dtype=float,delimiter=\",\")\n",
    "    a = jnp.array(a_np)\n",
    "    return PartitionProblem(n=a.shape[0], l=jnp.array(5.), a=a)"
   ]
  },
  {
   "cell_type": "code",
   "execution_count": null,
   "metadata": {},
   "outputs": [],
   "source": [
    "cur_partition = load_partition(\"hw5/A.txt\")\n",
    "print(f\"Symmetric: {jnp.allclose(cur_partition.a, cur_partition.a.T)}\")"
   ]
  },
  {
   "cell_type": "markdown",
   "metadata": {},
   "source": [
    "### Visualization of the matrix\n"
   ]
  },
  {
   "cell_type": "code",
   "execution_count": null,
   "metadata": {},
   "outputs": [],
   "source": [
    "def visualize_matrix(a: Float[Array, \"n n\"], title: str | None = None) -> plt.Figure:\n",
    "    fig, ax = plt.subplots()\n",
    "    ax = cast(Axes, ax)\n",
    "    sns.heatmap(a, ax=ax, square=True, cmap=[\"#ffffee\", \"black\"], cbar=False, xticklabels=False, yticklabels=False)\n",
    "    ax.set_title(title if title else \"Matrix\")\n",
    "    return fig"
   ]
  },
  {
   "cell_type": "code",
   "execution_count": null,
   "metadata": {},
   "outputs": [],
   "source": [
    "plt.ioff()\n",
    "fig = visualize_matrix(cur_partition.a, title=\"Input matrix A\")\n",
    "None"
   ]
  },
  {
   "cell_type": "markdown",
   "metadata": {},
   "source": [
    "## Reformulation\n",
    "\n",
    "We introduce another variable $\\vf{Z}$ to decouple the constraint on the diagonal and the PSD constraint. In the below problem\n",
    "\n",
    "$$\n",
    "\\begin{array}{rl}\n",
    "\\min\\limits_{\\vf X,\\vf Z} &\\langle X,\\tilde{A}\\rangle \\\\\n",
    "\\textrm{s.t. } & \\vf X \\succeq 0\\\\\n",
    "&Z_{ii}=1, \\forall i\\in \\{1, \\dots, n\\}\\\\\n",
    "&\\vf Z=\\vf X\n",
    "\\end{array}\n",
    "$$\n",
    "\n",
    "we can see that the feasibility condition on $\\vf X$ and the objective function is the same as the original."
   ]
  },
  {
   "cell_type": "markdown",
   "metadata": {},
   "source": [
    "## Rewrite the problem for solving with ADMM"
   ]
  },
  {
   "cell_type": "markdown",
   "metadata": {},
   "source": [
    "With $\\lambda=5$, we have:"
   ]
  },
  {
   "cell_type": "code",
   "execution_count": null,
   "metadata": {},
   "outputs": [],
   "source": [
    "a_tilde = cur_partition.a_tilde"
   ]
  }
 ],
 "metadata": {
  "kernelspec": {
   "display_name": "py312",
   "language": "python",
   "name": "python3"
  },
  "language_info": {
   "codemirror_mode": {
    "name": "ipython",
    "version": 3
   },
   "file_extension": ".py",
   "mimetype": "text/x-python",
   "name": "python",
   "nbconvert_exporter": "python",
   "pygments_lexer": "ipython3",
   "version": "3.12.0"
  }
 },
 "nbformat": 4,
 "nbformat_minor": 2
}
