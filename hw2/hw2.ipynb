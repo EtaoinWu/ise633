{
 "cells": [
  {
   "cell_type": "markdown",
   "metadata": {},
   "source": [
    "# ISE 633 Homework 2\n",
    "Author: Yue Wu <wu.yue@usc.edu>"
   ]
  },
  {
   "cell_type": "code",
   "execution_count": null,
   "metadata": {},
   "outputs": [],
   "source": [
    "### IMPORT\n",
    "\n",
    "import jax\n",
    "from jax import numpy as jnp\n",
    "from jax import random as jr\n",
    "import jaxtyping\n",
    "from jaxtyping import jaxtyped, Array, Float, Scalar, Key\n",
    "import equinox as eqx\n",
    "import beartype\n",
    "from beartype.typing import Self\n",
    "\n",
    "SingleKey = Key[Scalar, \"\"]\n",
    "typechecked = jaxtyping.jaxtyped(typechecker=beartype.beartype)\n",
    "FloatLike = float | Float[Scalar, \"\"]"
   ]
  },
  {
   "cell_type": "code",
   "execution_count": null,
   "metadata": {},
   "outputs": [],
   "source": [
    "class QuadraticOptimization(eqx.Module):\n",
    "  Q: Float[Array, \"n n\"]\n",
    "  b: Float[Array, \"n\"]\n",
    "\n",
    "  @typechecked\n",
    "  def __call__(self, x: Float[Array, \"n\"]) -> Float[Scalar, \"\"]:\n",
    "    return .5 * x.T @ self.Q @ x + jnp.dot(self.b, x)\n",
    "\n",
    "@typechecked\n",
    "def generate_qd(n: int, diag_noise_scale: FloatLike, key: SingleKey) \\\n",
    "  -> QuadraticOptimization:\n",
    "  B_key, D_key, b_key = jr.split(key, 3)\n",
    "  B = jr.normal(B_key, (n, n))\n",
    "  D_diag = jnp.exp(jr.normal(D_key, (n,)))\n",
    "  D = jnp.diag(D_diag)\n",
    "  Q = B @ B.T + D\n",
    "  b = jr.normal(b_key, (n,))\n",
    "  return QuadraticOptimization(Q, b)"
   ]
  },
  {
   "cell_type": "code",
   "execution_count": null,
   "metadata": {},
   "outputs": [],
   "source": [
    "key = jr.key(20240215)\n",
    "qd_key, key = jr.split(key)\n",
    "n = 100\n",
    "qd_p1 = generate_qd(n, 1., qd_key)"
   ]
  }
 ],
 "metadata": {
  "kernelspec": {
   "display_name": "py312",
   "language": "python",
   "name": "python3"
  },
  "language_info": {
   "codemirror_mode": {
    "name": "ipython",
    "version": 3
   },
   "file_extension": ".py",
   "mimetype": "text/x-python",
   "name": "python",
   "nbconvert_exporter": "python",
   "pygments_lexer": "ipython3",
   "version": "3.12.0"
  }
 },
 "nbformat": 4,
 "nbformat_minor": 2
}
